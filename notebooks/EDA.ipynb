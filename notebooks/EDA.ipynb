{
 "cells": [
  {
   "cell_type": "code",
   "execution_count": 51,
   "id": "f0d1117f",
   "metadata": {},
   "outputs": [
    {
     "name": "stderr",
     "output_type": "stream",
     "text": [
      "2025-06-27 07:41:24.659 Thread 'MainThread': missing ScriptRunContext! This warning can be ignored when running in bare mode.\n",
      "2025-06-27 07:41:24.660 Thread 'MainThread': missing ScriptRunContext! This warning can be ignored when running in bare mode.\n",
      "2025-06-27 07:41:24.661 Thread 'MainThread': missing ScriptRunContext! This warning can be ignored when running in bare mode.\n",
      "2025-06-27 07:41:24.662 Thread 'MainThread': missing ScriptRunContext! This warning can be ignored when running in bare mode.\n",
      "2025-06-27 07:41:24.662 Thread 'MainThread': missing ScriptRunContext! This warning can be ignored when running in bare mode.\n",
      "2025-06-27 07:41:24.663 Thread 'MainThread': missing ScriptRunContext! This warning can be ignored when running in bare mode.\n",
      "2025-06-27 07:41:24.664 Thread 'MainThread': missing ScriptRunContext! This warning can be ignored when running in bare mode.\n",
      "2025-06-27 07:41:24.665 Thread 'MainThread': missing ScriptRunContext! This warning can be ignored when running in bare mode.\n",
      "2025-06-27 07:41:24.666 Thread 'MainThread': missing ScriptRunContext! This warning can be ignored when running in bare mode.\n",
      "2025-06-27 07:41:24.667 Thread 'MainThread': missing ScriptRunContext! This warning can be ignored when running in bare mode.\n",
      "2025-06-27 07:41:24.667 Thread 'MainThread': missing ScriptRunContext! This warning can be ignored when running in bare mode.\n",
      "2025-06-27 07:41:24.668 Thread 'MainThread': missing ScriptRunContext! This warning can be ignored when running in bare mode.\n"
     ]
    }
   ],
   "source": [
    "import pandas as pd\n",
    "import plotly.express as px\n",
    "import streamlit as st\n",
    "        \n",
    "car_data = pd.read_csv('../vehicles_us.csv') # lendo os dados\n",
    "hist_button = st.button('Criar histograma') # criar um botão\n",
    "  #criar uma caixa de seleção\n",
    "build_histogram = st.checkbox('Criar um histograma')\n",
    "\n",
    "if build_histogram: # se a caixa de seleção for selecionada\n",
    "  st.write('Criando um histograma para a coluna odometer')\n",
    "...      \n",
    "if hist_button: # se o botão for clicado\n",
    "            # escrever uma mensagem\n",
    "            st.write('Criando um histograma para o conjunto de dados de anúncios de vendas de carros')\n",
    "            \n",
    "            # criar um histograma\n",
    "            fig = px.histogram(car_data, x=\"odometer\")\n",
    "        \n",
    "            # exibir um gráfico Plotly interativo\n",
    "            st.plotly_chart(fig, use_container_width=True)\n",
    "   "
   ]
  }
 ],
 "metadata": {
  "kernelspec": {
   "display_name": "vehicles_env",
   "language": "python",
   "name": "python3"
  },
  "language_info": {
   "codemirror_mode": {
    "name": "ipython",
    "version": 3
   },
   "file_extension": ".py",
   "mimetype": "text/x-python",
   "name": "python",
   "nbconvert_exporter": "python",
   "pygments_lexer": "ipython3",
   "version": "3.13.5"
  }
 },
 "nbformat": 4,
 "nbformat_minor": 5
}
